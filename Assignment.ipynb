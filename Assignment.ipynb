{
  "cells": [
    {
      "cell_type": "code",
      "source": [
        "import pandas as pd"
      ],
      "metadata": {
        "id": "GFEZ1K75clQ4"
      },
      "execution_count": 17,
      "outputs": []
    },
    {
      "cell_type": "markdown",
      "source": [
        "* The on_bad_lines='skip' parameter ensures that any problematic rows in the CSV files are ignored, preventing errors during loading.\n",
        "* The sep parameter specifies the delimiter used in each file."
      ],
      "metadata": {
        "id": "U-1VXygDfyoB"
      }
    },
    {
      "cell_type": "code",
      "source": [
        "# Load datasets from CSV files with error handling\n",
        "facebook_df = pd.read_csv('facebook_dataset.csv', on_bad_lines='skip')\n",
        "google_df = pd.read_csv('google_dataset.csv', sep=',', on_bad_lines='skip')\n",
        "website_df = pd.read_csv('website_dataset.csv', sep=';', on_bad_lines='skip')\n"
      ],
      "metadata": {
        "colab": {
          "base_uri": "https://localhost:8080/"
        },
        "id": "jV5aTpTScmFG",
        "outputId": "b72eae74-3b84-49b7-fdc6-251f41fcd77f"
      },
      "execution_count": 18,
      "outputs": [
        {
          "output_type": "stream",
          "name": "stderr",
          "text": [
            "<ipython-input-18-619ac668be91>:3: DtypeWarning: Columns (6) have mixed types. Specify dtype option on import or set low_memory=False.\n",
            "  google_df = pd.read_csv('google_dataset.csv', sep=',', on_bad_lines='skip')\n"
          ]
        }
      ]
    },
    {
      "cell_type": "markdown",
      "source": [
        "* I've created a new column, company_name, in each DataFrame by normalizing existing name columns. It converts names to lowercase and removes leading/trailing whitespace to ensure consistency, which is good for merging datasets accurately."
      ],
      "metadata": {
        "id": "38PFjRATgNji"
      }
    },
    {
      "cell_type": "code",
      "source": [
        "# Normalize company names\n",
        "facebook_df['company_name'] = facebook_df['name'].str.lower().str.strip()\n",
        "google_df['company_name'] = google_df.get('name', '').str.lower().str.strip()\n",
        "website_df['company_name'] = website_df['site_name'].str.lower().str.strip()\n"
      ],
      "metadata": {
        "id": "qF3qwMJ0coti"
      },
      "execution_count": 19,
      "outputs": []
    },
    {
      "cell_type": "markdown",
      "source": [
        "* I've merged the three DataSets based on the company_name column. The how='outer' parameter ensures that all records from both DataSets are included, even if there’s no match. Suffixes are added to see if there are overlapping columns."
      ],
      "metadata": {
        "id": "7orai9E2gbOs"
      }
    },
    {
      "cell_type": "code",
      "source": [
        "# Merge datasets on company_name\n",
        "merged_df = facebook_df.merge(google_df, on='company_name', how='outer', suffixes=('_fb', '_google'))\n",
        "merged_df = merged_df.merge(website_df, on='company_name', how='outer', suffixes=('', '_website'))\n",
        "\n",
        "print(\"Merged DataFrame Columns:\", merged_df.columns)"
      ],
      "metadata": {
        "colab": {
          "base_uri": "https://localhost:8080/"
        },
        "id": "KCWIMorsco2z",
        "outputId": "e104e0e6-269a-4560-a163-671144becba0"
      },
      "execution_count": 20,
      "outputs": [
        {
          "output_type": "stream",
          "name": "stdout",
          "text": [
            "Merged DataFrame Columns: Index(['domain_fb', 'address_fb', 'categories', 'city_fb', 'country_code_fb',\n",
            "       'country_name_fb', 'description', 'email', 'link', 'name_fb',\n",
            "       'page_type', 'phone_fb', 'phone_country_code_fb', 'region_code_fb',\n",
            "       'region_name_fb', 'zip_code_fb', 'company_name', 'address_google',\n",
            "       'category', 'city_google', 'country_code_google', 'country_name_google',\n",
            "       'name_google', 'phone_google', 'phone_country_code_google',\n",
            "       'raw_address', 'raw_phone', 'region_code_google', 'region_name_google',\n",
            "       'text', 'zip_code_google', 'domain_google', 'root_domain',\n",
            "       'domain_suffix', 'language', 'legal_name', 'main_city', 'main_country',\n",
            "       'main_region', 'phone', 'site_name', 'tld', 's_category'],\n",
            "      dtype='object')\n"
          ]
        }
      ]
    },
    {
      "cell_type": "markdown",
      "source": [
        "* I've made a list of relevant columns to keep in the final merged DataSet. It checks if each desired column exists in the merged DataSet and adds it to the columns_to_keep list. After preparing the list, it filters merged_df to retain only those columns and prints the size of the resulting DataSet.\n",
        "\n"
      ],
      "metadata": {
        "id": "yCrfLZLwg1WF"
      }
    },
    {
      "cell_type": "code",
      "source": [
        "# Prepare a list of columns to keep, excluding None values\n",
        "columns_to_keep = ['company_name']\n",
        "\n",
        "# Add columns conditionally if they exist\n",
        "if 'categories' in merged_df:\n",
        "    columns_to_keep.append('categories')\n",
        "if 'address' in merged_df:\n",
        "    columns_to_keep.append('address')\n",
        "if 'raw_address' in merged_df:\n",
        "    columns_to_keep.append('raw_address')\n",
        "if 'city' in merged_df:\n",
        "    columns_to_keep.append('city')\n",
        "if 'country_name' in merged_df:\n",
        "    columns_to_keep.append('country_name')\n",
        "if 'main_country' in merged_df:\n",
        "    columns_to_keep.append('main_country')\n",
        "if 'region_name' in merged_df:\n",
        "    columns_to_keep.append('region_name')\n",
        "if 'main_region' in merged_df:\n",
        "    columns_to_keep.append('main_region')\n",
        "if 'phone' in merged_df:\n",
        "    columns_to_keep.append('phone')\n",
        "if 'raw_phone' in merged_df:\n",
        "    columns_to_keep.append('raw_phone')\n",
        "\n",
        "# Limit to relevant columns before applying conflict resolution\n",
        "merged_df = merged_df[columns_to_keep]\n",
        "\n",
        "print(f\"Merged DataFrame Size: {merged_df.shape}\")\n"
      ],
      "metadata": {
        "colab": {
          "base_uri": "https://localhost:8080/"
        },
        "id": "7xDTfcFPcytg",
        "outputId": "3a6edda5-ce30-48c4-aba0-eea97f6ff078"
      },
      "execution_count": 21,
      "outputs": [
        {
          "output_type": "stream",
          "name": "stdout",
          "text": [
            "Merged DataFrame Size: (527738, 7)\n"
          ]
        }
      ]
    },
    {
      "cell_type": "markdown",
      "source": [
        "* I've tried to resolves conflicts in the merged DataSet by creating a new DataSet, merged_dataset, using the apply function. For each row, it chooses the most relevant values for columns like address, city, and phone, preferring one over the other when there are overlaps. The index is then reset to maintain a clean structure."
      ],
      "metadata": {
        "id": "l5gpvXa7hINF"
      }
    },
    {
      "cell_type": "code",
      "source": [
        "# Function to resolve conflicts\n",
        "merged_dataset = merged_df.apply(lambda row: pd.Series({\n",
        "    'company_name': row['company_name'],\n",
        "    'categories': ', '.join(filter(None, [str(row.get('categories', ''))])),\n",
        "    'address': row.get('address', '') or row.get('raw_address', ''),\n",
        "    'city': row.get('city', '') or row.get('main_city', ''),\n",
        "    'country': row.get('country_name', '') or row.get('main_country', ''),\n",
        "    'region': row.get('region_name', '') or row.get('main_region', ''),\n",
        "    'phone': row.get('phone', '') or row.get('raw_phone', ''),\n",
        "}), axis=1)\n",
        "\n",
        "merged_dataset.reset_index(drop=True, inplace=True) # Reset index\n"
      ],
      "metadata": {
        "id": "zNnB2Cb3c1a0"
      },
      "execution_count": 22,
      "outputs": []
    },
    {
      "cell_type": "code",
      "source": [
        "# Save the final dataset and print it\n",
        "merged_dataset.to_csv('merged_dataset.csv', index=False)\n",
        "\n",
        "print(merged_dataset)"
      ],
      "metadata": {
        "colab": {
          "base_uri": "https://localhost:8080/"
        },
        "id": "kibW4Ypsc3sa",
        "outputId": "ee868b69-b336-4f70-c0c3-b8bb09176ed5"
      },
      "execution_count": 23,
      "outputs": [
        {
          "output_type": "stream",
          "name": "stdout",
          "text": [
            "                                 company_name  \\\n",
            "0                                euro hygiène   \n",
            "1                      lakeside home services   \n",
            "2                              rossiter boats   \n",
            "3       chandler associates architecture inc.   \n",
            "4                apex surety & insurance ltd.   \n",
            "...                                       ...   \n",
            "527733                              pansports   \n",
            "527734                           turkey point   \n",
            "527735                      279 bistro urbain   \n",
            "527736                                   naid   \n",
            "527737              studio ae interior design   \n",
            "\n",
            "                                               categories  \\\n",
            "0                                                     nan   \n",
            "1       Appliance Repair & Maintenance|Home Builders &...   \n",
            "2             Boats & Yachts Dealers|Boat Tours & Cruises   \n",
            "3       Architects & Architectural Services|Other Engi...   \n",
            "4                                                     nan   \n",
            "...                                                   ...   \n",
            "527733                                                nan   \n",
            "527734                                                nan   \n",
            "527735                                                nan   \n",
            "527736                                                nan   \n",
            "527737                                                nan   \n",
            "\n",
            "                                         address city         country  \\\n",
            "0       3+ years in business · Calvisson, France                  NaN   \n",
            "1                                            NaN               canada   \n",
            "2                           Markdale, ON, Canada               canada   \n",
            "3                                            NaN                  NaN   \n",
            "4                                 4 Donald St #3                  NaN   \n",
            "...                                          ...  ...             ...   \n",
            "527733                                       NaN       united kingdom   \n",
            "527734                                       NaN               canada   \n",
            "527735                                       NaN               canada   \n",
            "527736                                       NaN        united states   \n",
            "527737                                       NaN               canada   \n",
            "\n",
            "                  region        phone  \n",
            "0                    NaN          NaN  \n",
            "1                ontario  16138318840  \n",
            "2                ontario  18662513280  \n",
            "3                    NaN          NaN  \n",
            "4                    NaN          NaN  \n",
            "...                  ...          ...  \n",
            "527733           england     4.42E+11  \n",
            "527734           ontario  15195868585  \n",
            "527735            quebec  14505045678  \n",
            "527736           florida  14167427411  \n",
            "527737  british columbia  12503902505  \n",
            "\n",
            "[527738 rows x 7 columns]\n"
          ]
        }
      ]
    }
  ],
  "metadata": {
    "accelerator": "TPU",
    "colab": {
      "gpuType": "V28",
      "provenance": []
    },
    "kernelspec": {
      "display_name": "Python 3",
      "name": "python3"
    },
    "language_info": {
      "name": "python"
    }
  },
  "nbformat": 4,
  "nbformat_minor": 0
}